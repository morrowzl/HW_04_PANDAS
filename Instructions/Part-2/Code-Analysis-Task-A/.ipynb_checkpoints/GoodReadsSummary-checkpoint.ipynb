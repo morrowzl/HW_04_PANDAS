{
 "cells": [
  {
   "cell_type": "markdown",
   "metadata": {},
   "source": [
    "# Good Reads Summary\n",
    "\n",
    "#### The objective of this assignment is for you to explain what is happening in each cell in clear, understandable language. \n",
    "\n",
    "#### _There is no need to code._ The code is there for you, and it already runs. Your task is only to explain what each line in each cell does.\n",
    "\n",
    "#### The placeholder cells should describe what happens in the cell below it."
   ]
  },
  {
   "cell_type": "markdown",
   "metadata": {},
   "source": [
    "**Example**: The cell below imports `pandas` as a dependency because `pandas` functions will be used throughout the program, such as the Pandas `DataFrame` as well as the `read_csv` function."
   ]
  },
  {
   "cell_type": "code",
   "execution_count": null,
   "metadata": {},
   "outputs": [],
   "source": [
    "import pandas as pd"
   ]
  },
  {
   "cell_type": "markdown",
   "metadata": {},
   "source": [
    "Line 1: \n",
    "Line assigns a string to variable \"goodreads_path\". The string points to the location of a file of interest on the hard drive. \n",
    "Line 2: \n",
    "Line instructs Python to create a dataframe called \"goodreads_df\" using pandas' read_csv function to \"read\" the file located at the location specified by \"goodreads_path\" and interpret the contents according to the utf-8 style of encoding.\n",
    "Line 3:\n",
    "Line displays the first (default since no other amount specified in parentheses) five rows of the dataframe \"goodreads_df\"."
   ]
  },
  {
   "cell_type": "code",
   "execution_count": null,
   "metadata": {},
   "outputs": [],
   "source": [
    "goodreads_path = \"Resources/books_clean.csv\"\n",
    "\n",
    "goodreads_df = pd.read_csv(goodreads_path, encoding=\"utf-8\")\n",
    "goodreads_df.head()"
   ]
  },
  {
   "cell_type": "markdown",
   "metadata": {},
   "source": [
    "Line 1:\n",
    "Line assigns a value to the variable \"author_count\". Pandas generates a series comprised of one entry for each author identified in the \"Authors\" column of goodreads_df. The number of elements in the series is determined via len, and the integer value is assigned to variable \"author_count\".\\n\n",
    "Line 2:\n",
    "Line assigns a value to the \"earliest_year\" variable. The value is the minimum (earliest) year contained in the \"publication year\" column of the \"goodreads_df\" dataframe.\n",
    "Line 3:\n",
    "Line assigns a value to the \"latest_year\" variable. The value is the maximum (latest) year contained in the \"publication year\" column of the \"goodreads_df\" dataframe.\n",
    "Line 4:\n",
    "Line adds a new column \"total reviews\" to the \"goodreads_df\" dataframe whose values will be, for each row, the sum of the row's values in columns with index 4 or greater.\n",
    "Line 5:\n",
    "Line assigns a value to the \"total_reviews\" variable, which is the sum of the values in \"goodreads_df\" column \"Total Reviews\"."
   ]
  },
  {
   "cell_type": "code",
   "execution_count": null,
   "metadata": {},
   "outputs": [],
   "source": [
    "author_count = len(goodreads_df[\"Authors\"].unique())\n",
    "\n",
    "earliest_year = goodreads_df[\"Publication Year\"].min()\n",
    "latest_year = goodreads_df[\"Publication Year\"].max()\n",
    "\n",
    "goodreads_df['Total Reviews'] = goodreads_df.iloc[:, 4:].sum(axis=1)\n",
    "total_reviews = sum(goodreads_df['Total Reviews'])"
   ]
  },
  {
   "cell_type": "markdown",
   "metadata": {},
   "source": [
    "Line 1:\n",
    "Line creates new dataframe \"summary_table\" whose contents are defined as a dictionary of lists. The dictionary's keys are strings (and the new dataframe's column labels) and the corresponding values are the referenced variables' values assigned in cells above.\n",
    "Line 2:\n",
    "Line displays the summary table.\n",
    "\n",
    "The variable \"author_count\" does not need to be enclosed in square brackets. However, the variable \"total_reviews\" needs to be enclosed in brackets because Python recognizes the potential for it to be a scalar value for which we are not passing a corresponding index. The square brackets pass \"total_reviews\" to the function a list."
   ]
  },
  {
   "cell_type": "code",
   "execution_count": null,
   "metadata": {},
   "outputs": [],
   "source": [
    "summary_table = pd.DataFrame({\"Total Unique Authors\": author_count,\n",
    "                              \"Earliest Year\": earliest_year,\n",
    "                              \"Latest Year\": latest_year,\n",
    "                              \"Total Reviews\": [total_reviews]})\n",
    "summary_table"
   ]
  },
  {
   "cell_type": "code",
   "execution_count": null,
   "metadata": {},
   "outputs": [],
   "source": []
  },
  {
   "cell_type": "code",
   "execution_count": null,
   "metadata": {},
   "outputs": [],
   "source": []
  }
 ],
 "metadata": {
  "kernelspec": {
   "display_name": "Python 3",
   "language": "python",
   "name": "python3"
  },
  "language_info": {
   "codemirror_mode": {
    "name": "ipython",
    "version": 3
   },
   "file_extension": ".py",
   "mimetype": "text/x-python",
   "name": "python",
   "nbconvert_exporter": "python",
   "pygments_lexer": "ipython3",
   "version": "3.7.3"
  }
 },
 "nbformat": 4,
 "nbformat_minor": 2
}
