{
 "cells": [
  {
   "cell_type": "markdown",
   "metadata": {},
   "source": [
    "### Note\n",
    "* Instructions have been included for each segment. You do not have to follow them exactly, but they are included to help you think through the steps."
   ]
  },
  {
   "cell_type": "code",
   "execution_count": null,
   "metadata": {},
   "outputs": [],
   "source": [
    "# Dependencies and Setup\n",
    "import pandas as pd\n",
    "\n",
    "# File to Load (Remember to Change These)\n",
    "file_to_load = \"Resources/purchase_data.csv\"\n",
    "\n",
    "# Read Purchasing File and store into Pandas data frame\n",
    "data = pd.read_csv(file_to_load)"
   ]
  },
  {
   "cell_type": "markdown",
   "metadata": {},
   "source": [
    "## Player Count"
   ]
  },
  {
   "cell_type": "markdown",
   "metadata": {},
   "source": [
    "* Display the total number of players\n"
   ]
  },
  {
   "cell_type": "code",
   "execution_count": null,
   "metadata": {},
   "outputs": [],
   "source": [
    "#Index(['Purchase ID', 'SN', 'Age', 'Gender', 'Item ID', 'Item Name', 'Price'], dtype='object')\n",
    "#780 rows\n",
    "total_players = len(data[\"SN\"].unique())\n",
    "print(f\"Total number of player: {total_players}\")"
   ]
  },
  {
   "cell_type": "markdown",
   "metadata": {},
   "source": [
    "## Purchasing Analysis (Total)"
   ]
  },
  {
   "cell_type": "markdown",
   "metadata": {},
   "source": [
    "* Run basic calculations to obtain number of unique items, average price, etc.\n",
    "\n",
    "\n",
    "* Create a summary data frame to hold the results\n",
    "\n",
    "\n",
    "* Optional: give the displayed data cleaner formatting\n",
    "\n",
    "\n",
    "* Display the summary data frame\n"
   ]
  },
  {
   "cell_type": "code",
   "execution_count": null,
   "metadata": {
    "scrolled": true
   },
   "outputs": [],
   "source": [
    "# unique items\n",
    "unique_items = data[\"Item Name\"].nunique()\n",
    "# average price\n",
    "mean_price = data[\"Price\"].mean()\n",
    "# total No. purchases\n",
    "total_purch = len(data[\"Purchase ID\"])\n",
    "# total revenue\n",
    "revenue = data[\"Price\"].sum()\n",
    "# summary_df.head()\n",
    "summary_df = pd.DataFrame({\"# Unique Items\": [unique_items], \"Average Price\": [mean_price], \"# of Purchases\": [total_purch], \"Revenue\":[revenue]})\n",
    "summary_df"
   ]
  },
  {
   "cell_type": "markdown",
   "metadata": {},
   "source": [
    "## Gender Demographics"
   ]
  },
  {
   "cell_type": "markdown",
   "metadata": {},
   "source": [
    "* Percentage and Count of Male Players\n",
    "\n",
    "\n",
    "* Percentage and Count of Female Players\n",
    "\n",
    "\n",
    "* Percentage and Count of Other / Non-Disclosed\n",
    "\n",
    "\n"
   ]
  },
  {
   "cell_type": "code",
   "execution_count": null,
   "metadata": {},
   "outputs": [],
   "source": [
    "data_bygen = pd.DataFrame(data.groupby(\"Gender\")[\"SN\"].nunique())\n",
    "data_bygen.reset_index(inplace=True)\n",
    "data_bygen.rename(columns={\"SN\":\"Total Count\"}, inplace=True)\n",
    "percents = [(data_bygen.iloc[0,1])/total_players*100,\n",
    "            (data_bygen.iloc[1,1])/total_players*100,\n",
    "            (data_bygen.iloc[2,1])/total_players*100]\n",
    "data_bygen[\"Percents\"] = percents \n",
    "data_bygen"
   ]
  },
  {
   "cell_type": "markdown",
   "metadata": {},
   "source": [
    "\n",
    "## Purchasing Analysis (Gender)"
   ]
  },
  {
   "cell_type": "markdown",
   "metadata": {},
   "source": [
    "* Run basic calculations to obtain purchase count, avg. purchase price, avg. purchase total per person etc. by gender\n",
    "\n",
    "\n",
    "\n",
    "\n",
    "* Create a summary data frame to hold the results\n",
    "\n",
    "\n",
    "* Optional: give the displayed data cleaner formatting\n",
    "\n",
    "\n",
    "* Display the summary data frame"
   ]
  },
  {
   "cell_type": "code",
   "execution_count": null,
   "metadata": {},
   "outputs": [],
   "source": [
    "purcount = pd.DataFrame(data.groupby(\"Gender\")[\"Purchase ID\"].count())\n",
    "purcount.reset_index(inplace=True)\n",
    "purcount.rename(columns={\"Purchase ID\":\"Purchase Count\"}, inplace=True)\n",
    "\n",
    "avgpurprice = pd.DataFrame(data.groupby(\"Gender\")[\"Price\"].mean())\n",
    "avgpurprice.reset_index(inplace=True)\n",
    "avgpurprice.rename(columns={\"Price\":\"Avg Purchase Price\"}, inplace=True)\n",
    "\n",
    "totalpurval = pd.DataFrame(data.groupby(\"Gender\")[\"Price\"].sum())\n",
    "totalpurval.reset_index(inplace=True)\n",
    "totalpurval.rename(columns={\"Price\":\"Total Purchase Value\"}, inplace=True)\n",
    "\n",
    "purtotpp = pd.DataFrame(data.groupby([\"Gender\",\"SN\"])[\"Price\"].sum())\n",
    "purtotpp = pd.DataFrame(purtotpp.groupby(\"Gender\")[\"Price\"].mean())\n",
    "purtotpp.reset_index(inplace=True)\n",
    "purtotpp.rename(columns={\"Price\":\"Average Purchase Total per Person\"}, inplace=True)\n",
    "\n",
    "merge1 = pd.merge(purcount, avgpurprice, on = [\"Gender\"])\n",
    "merge2 = pd.merge(merge1, totalpurval, on = [\"Gender\"])\n",
    "gender_analysis = pd.merge(merge2, purtotpp, on = [\"Gender\"])\n",
    "gender_analysis"
   ]
  },
  {
   "cell_type": "code",
   "execution_count": null,
   "metadata": {},
   "outputs": [],
   "source": []
  },
  {
   "cell_type": "markdown",
   "metadata": {},
   "source": [
    "## Age Demographics"
   ]
  },
  {
   "cell_type": "markdown",
   "metadata": {},
   "source": [
    "* Establish bins for ages\n",
    "\n",
    "\n",
    "* Categorize the existing players using the age bins. Hint: use pd.cut()\n",
    "\n",
    "\n",
    "* Calculate the numbers and percentages by age group\n",
    "\n",
    "\n",
    "* Create a summary data frame to hold the results\n",
    "\n",
    "\n",
    "* Optional: round the percentage column to two decimal points\n",
    "\n",
    "\n",
    "* Display Age Demographics Table\n"
   ]
  },
  {
   "cell_type": "code",
   "execution_count": null,
   "metadata": {},
   "outputs": [],
   "source": [
    "max_age = data[\"Age\"].max()\n",
    "print(max_age)\n",
    "bins = [0,9,14,19,24,29,34,39,44,49]\n",
    "age_groups = [\"under10\", \"10-14\", \"15-19\",\"20-24\",\"25-29\",\"30-34\",\"35-39\",\"40-44\",\"45-49\"]\n",
    "age_demo = data\n",
    "age_demo[\"Age Group\"] = pd.cut(data[\"Age\"], bins, labels=age_groups)\n",
    "age_demo\n",
    "\n",
    "byage = pd.DataFrame(data.groupby(\"Age Group\")[\"SN\"].nunique())\n",
    "byage.reset_index(inplace=True)\n",
    "byage.rename(columns={\"SN\":\"Total Count\"}, inplace=True)\n",
    "percents = [(byage.iloc[0,1])/total_players*100,\n",
    "            (byage.iloc[1,1])/total_players*100,\n",
    "            (byage.iloc[2,1])/total_players*100, \n",
    "            (byage.iloc[3,1])/total_players*100, \n",
    "            (byage.iloc[4,1])/total_players*100, \n",
    "            (byage.iloc[5,1])/total_players*100, \n",
    "            (byage.iloc[6,1])/total_players*100, \n",
    "            (byage.iloc[7,1])/total_players*100, \n",
    "            (byage.iloc[8,1])/total_players*100]\n",
    "\n",
    "byage[\"Percents\"] = percents \n",
    "byage"
   ]
  },
  {
   "cell_type": "markdown",
   "metadata": {},
   "source": [
    "## Purchasing Analysis (Age)"
   ]
  },
  {
   "cell_type": "markdown",
   "metadata": {},
   "source": [
    "* Bin the purchase_data data frame by age\n",
    "\n",
    "\n",
    "* Run basic calculations to obtain purchase count, avg. purchase price, avg. purchase total per person etc. in the table below\n",
    "\n",
    "\n",
    "* Create a summary data frame to hold the results\n",
    "\n",
    "\n",
    "* Optional: give the displayed data cleaner formatting\n",
    "\n",
    "\n",
    "* Display the summary data frame"
   ]
  },
  {
   "cell_type": "code",
   "execution_count": null,
   "metadata": {},
   "outputs": [],
   "source": [
    "purcount2 = pd.DataFrame(age_demo.groupby(\"Age Group\")[\"Purchase ID\"].count())\n",
    "purcount2.reset_index(inplace=True)\n",
    "purcount2.rename(columns={\"Purchase ID\":\"Purchase Count\"}, inplace=True)\n",
    "\n",
    "avgpurprice2 = pd.DataFrame(age_demo.groupby(\"Age Group\")[\"Price\"].mean())\n",
    "avgpurprice2.reset_index(inplace=True)\n",
    "avgpurprice2.rename(columns={\"Price\":\"Avg Purchase Price\"}, inplace=True)\n",
    "\n",
    "totalpurval2 = pd.DataFrame(age_demo.groupby(\"Age Group\")[\"Price\"].sum())\n",
    "totalpurval2.reset_index(inplace=True)\n",
    "totalpurval2.rename(columns={\"Price\":\"Total Purchase Value\"}, inplace=True)\n",
    "\n",
    "purtotpp2 = pd.DataFrame(age_demo.groupby([\"Age Group\",\"SN\"])[\"Price\"].sum())\n",
    "purtotpp2 = pd.DataFrame(purtotpp2.groupby(\"Age Group\")[\"Price\"].mean())\n",
    "purtotpp2.reset_index(inplace=True)\n",
    "purtotpp2.rename(columns={\"Price\":\"Average Purchase Total per Person\"}, inplace=True)\n",
    "\n",
    "merge1 = pd.merge(purcount2, avgpurprice2, on = [\"Age Group\"])\n",
    "merge2 = pd.merge(merge1, totalpurval2, on = [\"Age Group\"])\n",
    "age_analysis = pd.merge(merge2, purtotpp2, on = [\"Age Group\"])\n",
    "age_analysis"
   ]
  },
  {
   "cell_type": "code",
   "execution_count": null,
   "metadata": {},
   "outputs": [],
   "source": [
    "byage"
   ]
  },
  {
   "cell_type": "markdown",
   "metadata": {},
   "source": [
    "## Top Spenders"
   ]
  },
  {
   "cell_type": "markdown",
   "metadata": {},
   "source": [
    "* Run basic calculations to obtain the results in the table below\n",
    "\n",
    "\n",
    "* Create a summary data frame to hold the results\n",
    "\n",
    "\n",
    "* Sort the total purchase value column in descending order\n",
    "\n",
    "\n",
    "* Optional: give the displayed data cleaner formatting\n",
    "\n",
    "\n",
    "* Display a preview of the summary data frame\n",
    "\n"
   ]
  },
  {
   "cell_type": "code",
   "execution_count": null,
   "metadata": {},
   "outputs": [],
   "source": [
    "#Index(['Purchase ID', 'SN', 'Age', 'Gender', 'Item ID', 'Item Name', 'Price'], dtype='object')\n",
    "# SN, Purchase Count, Average Purchase Price, Total Purchase Value \n",
    "purchases = pd.DataFrame(data.groupby(\"SN\")[\"Purchase ID\"].count())\n",
    "purchases.reset_index(inplace=True)\n",
    "purchases.rename(columns={\"Purchase ID\":\"Purchase Count\"}, inplace=True)\n",
    "\n",
    "avepurchase = pd.DataFrame(data.groupby(\"SN\")[\"Price\"].mean())\n",
    "avepurchase.reset_index(inplace=True)\n",
    "avepurchase.rename(columns={\"Price\":\"Avg. Purchase Value\"}, inplace=True)\n",
    "\n",
    "totalspent = pd.DataFrame(data.groupby(\"SN\")[\"Price\"].sum())\n",
    "totalspent.reset_index(inplace=True)\n",
    "totalspent.rename(columns={\"Price\":\"Total Value of Purchases\"}, inplace=True)\n",
    "\n",
    "merge1 = pd.merge(purchases, avepurchase, on = [\"SN\"])\n",
    "top_spenders = pd.merge(merge1, totalspent, on = [\"SN\"])\n",
    "top_spenders = top_spenders.sort_values(by=\"Total Value of Purchases\", ascending=False)\n",
    "top_spenders.head()"
   ]
  },
  {
   "cell_type": "markdown",
   "metadata": {},
   "source": [
    "## Most Popular Items"
   ]
  },
  {
   "cell_type": "markdown",
   "metadata": {},
   "source": [
    "* Retrieve the Item ID, Item Name, and Item Price columns\n",
    "\n",
    "\n",
    "* Group by Item ID and Item Name. Perform calculations to obtain purchase count, item price, and total purchase value\n",
    "\n",
    "\n",
    "* Create a summary data frame to hold the results\n",
    "\n",
    "\n",
    "* Sort the purchase count column in descending order\n",
    "\n",
    "\n",
    "* Optional: give the displayed data cleaner formatting\n",
    "\n",
    "\n",
    "* Display a preview of the summary data frame\n",
    "\n"
   ]
  },
  {
   "cell_type": "code",
   "execution_count": null,
   "metadata": {},
   "outputs": [],
   "source": [
    "# #Index(['Purchase ID', 'SN', 'Age', 'Gender', 'Item ID', 'Item Name', 'Price'], dtype='object')\n",
    "# items = pd.DataFrame(data, columns=[\"Item ID\", \"Item Name\", \"Price\"])\n",
    "# items[\"Purchase Count\"] = data.groupby(\"Item ID\")[\"Purchase ID\"].count()\n",
    "# items[\"Item Price\"] = data.groupby(\"Item ID\")[\"Price\"]\n",
    "# items.head()\n",
    "\n",
    "# itemid = pd.DataFrame(data.groupby(\"Item ID\")[\"Item Name\"].unique())\n",
    "# itemname.reset_index(inplace=True)\n",
    "# itemid\n",
    "itemname = pd.DataFrame(data.groupby(\"Item Name\")[\"Item ID\"].unique().str[0])\n",
    "itemname.reset_index(inplace=True)\n",
    "purchcount = pd.DataFrame(data.groupby(\"Item ID\")[\"Purchase ID\"].count())\n",
    "purchcount.reset_index(inplace=True)\n",
    "purchcount.rename(columns={\"Purchase ID\":\"Purchase Count\"}, inplace=True)\n",
    "itemprice = pd.DataFrame(data.groupby(\"Item ID\")[\"Price\"].unique().str[0])\n",
    "itemprice.reset_index(inplace=True)\n",
    "itemprice.rename(columns={\"Price\":\"Item Price\"}, inplace=True)\n",
    "purchval = pd.DataFrame(data.groupby(\"Item ID\")[\"Price\"].sum())\n",
    "purchval.reset_index(inplace=True)\n",
    "purchval.rename(columns={\"Price\":\"Total Purchase Value\"}, inplace=True)\n",
    "\n",
    "merge1 = pd.merge(itemname, purchcount, on = [\"Item ID\"])\n",
    "merge2 = pd.merge(merge1, itemprice, on = [\"Item ID\"])\n",
    "most_popular = pd.merge(merge2, purchval, on = [\"Item ID\"])\n",
    "sortby_count = most_popular.sort_values(by=\"Purchase Count\", ascending=False)\n"
   ]
  },
  {
   "cell_type": "markdown",
   "metadata": {},
   "source": [
    "## Most Profitable Items"
   ]
  },
  {
   "cell_type": "markdown",
   "metadata": {},
   "source": [
    "* Sort the above table by total purchase value in descending order\n",
    "\n",
    "\n",
    "* Optional: give the displayed data cleaner formatting\n",
    "\n",
    "\n",
    "* Display a preview of the data frame\n",
    "\n"
   ]
  },
  {
   "cell_type": "code",
   "execution_count": null,
   "metadata": {
    "scrolled": true
   },
   "outputs": [],
   "source": [
    "itemname = pd.DataFrame(data.groupby(\"Item ID\")[\"Item Name\"].unique().str[0])\n",
    "itemname.reset_index(inplace=True)\n",
    "purchcount = pd.DataFrame(data.groupby(\"Item ID\")[\"Purchase ID\"].count())\n",
    "purchcount.reset_index(inplace=True)\n",
    "purchcount.rename(columns={\"Purchase ID\":\"Purchase Count\"}, inplace=True)\n",
    "itemprice = pd.DataFrame(data.groupby(\"Item ID\")[\"Price\"].unique().str[0])\n",
    "itemprice.reset_index(inplace=True)\n",
    "itemprice.rename(columns={\"Price\":\"Item Price\"}, inplace=True)\n",
    "purchval = pd.DataFrame(data.groupby(\"Item ID\")[\"Price\"].sum())\n",
    "purchval.reset_index(inplace=True)\n",
    "purchval.rename(columns={\"Price\":\"Total Purchase Value\"}, inplace=True)\n",
    "\n",
    "merge1 = pd.merge(itemname, purchcount, on = [\"Item ID\"])\n",
    "merge2 = pd.merge(merge1, itemprice, on = [\"Item ID\"])\n",
    "most_popular = pd.merge(merge2, purchval, on = [\"Item ID\"])\n",
    "sortby_value = most_popular.sort_values(by=\"Total Purchase Value\", ascending=False)\n",
    "\n",
    "sortby_value.head()"
   ]
  },
  {
   "cell_type": "code",
   "execution_count": null,
   "metadata": {},
   "outputs": [],
   "source": []
  },
  {
   "cell_type": "code",
   "execution_count": null,
   "metadata": {},
   "outputs": [],
   "source": [
    "# Observations\n",
    "# 1. By grouping the data by gender, you can observe that there is a significantly higher number of male players than female players, but females spend more on average per person than males.\n",
    "# 2. People in their twenties comprise the largest portion of players, but they tend to spend slighlty less on average per person than people under 10 or between 35-40.\n",
    "# 3. Extraction, Quickblade Of Trembling Hands and Retribution Axe are ranked as the third and fifth highest selling items. Their prices are appreciably lower than those of the other top-ranked items, and they could potentially be increased to make more money."
   ]
  }
 ],
 "metadata": {
  "anaconda-cloud": {},
  "kernel_info": {
   "name": "python3"
  },
  "kernelspec": {
   "display_name": "Python 3",
   "language": "python",
   "name": "python3"
  },
  "language_info": {
   "codemirror_mode": {
    "name": "ipython",
    "version": 3
   },
   "file_extension": ".py",
   "mimetype": "text/x-python",
   "name": "python",
   "nbconvert_exporter": "python",
   "pygments_lexer": "ipython3",
   "version": "3.7.3"
  },
  "latex_envs": {
   "LaTeX_envs_menu_present": true,
   "autoclose": false,
   "autocomplete": true,
   "bibliofile": "biblio.bib",
   "cite_by": "apalike",
   "current_citInitial": 1,
   "eqLabelWithNumbers": true,
   "eqNumInitial": 1,
   "hotkeys": {
    "equation": "Ctrl-E",
    "itemize": "Ctrl-I"
   },
   "labels_anchors": false,
   "latex_user_defs": false,
   "report_style_numbering": false,
   "user_envs_cfg": false
  },
  "nteract": {
   "version": "0.2.0"
  }
 },
 "nbformat": 4,
 "nbformat_minor": 2
}
